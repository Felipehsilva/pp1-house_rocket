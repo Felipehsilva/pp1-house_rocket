{
 "cells": [
  {
   "cell_type": "markdown",
   "id": "5293c804",
   "metadata": {},
   "source": [
    "# House Rocket\n",
    "The purpose of this notebook is to answer the business questions asked by the CEO of the company House Rocket making an EDA. The section for imports and functions will be created. The business questions asked by the CEO will be answered and the code placed next"
   ]
  },
  {
   "cell_type": "markdown",
   "id": "ca045254",
   "metadata": {},
   "source": [
    "### imports section"
   ]
  },
  {
   "cell_type": "code",
   "execution_count": 3,
   "id": "bf839e45",
   "metadata": {},
   "outputs": [],
   "source": [
    "import pandas as pd"
   ]
  },
  {
   "cell_type": "markdown",
   "id": "8be89896",
   "metadata": {},
   "source": [
    "### Function section"
   ]
  },
  {
   "cell_type": "code",
   "execution_count": 4,
   "id": "ec165776",
   "metadata": {},
   "outputs": [],
   "source": [
    "#read dataset\n",
    "def get_data(path):\n",
    "    data=pd.read_csv(path)\n",
    "    return data"
   ]
  },
  {
   "cell_type": "markdown",
   "id": "8155aa17",
   "metadata": {},
   "source": [
    "#### How many properties are available for purchase?"
   ]
  },
  {
   "cell_type": "code",
   "execution_count": 10,
   "id": "b0078169",
   "metadata": {},
   "outputs": [
    {
     "name": "stdout",
     "output_type": "stream",
     "text": [
      "<bound method DataFrame.count of                id\n",
      "0      7129300520\n",
      "1      6414100192\n",
      "2      5631500400\n",
      "3      2487200875\n",
      "4      1954400510\n",
      "...           ...\n",
      "21608   263000018\n",
      "21609  6600060120\n",
      "21610  1523300141\n",
      "21611   291310100\n",
      "21612  1523300157\n",
      "\n",
      "[21613 rows x 1 columns]>\n"
     ]
    }
   ],
   "source": [
    "df = get_data(\"kc_house_data.csv\")\n",
    "p1 =df[['id']].count\n",
    "print(p1)"
   ]
  },
  {
   "cell_type": "code",
   "execution_count": null,
   "id": "a159d331",
   "metadata": {},
   "outputs": [],
   "source": []
  }
 ],
 "metadata": {
  "kernelspec": {
   "display_name": "Python 3",
   "language": "python",
   "name": "python3"
  },
  "language_info": {
   "codemirror_mode": {
    "name": "ipython",
    "version": 3
   },
   "file_extension": ".py",
   "mimetype": "text/x-python",
   "name": "python",
   "nbconvert_exporter": "python",
   "pygments_lexer": "ipython3",
   "version": "3.8.2"
  }
 },
 "nbformat": 4,
 "nbformat_minor": 5
}
